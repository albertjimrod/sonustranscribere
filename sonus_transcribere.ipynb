{
 "cells": [
  {
   "cell_type": "markdown",
   "id": "0699cf29",
   "metadata": {},
   "source": [
    "![classical_student.png](classical_student.png)"
   ]
  },
  {
   "cell_type": "code",
   "execution_count": 1,
   "id": "7023d555",
   "metadata": {},
   "outputs": [],
   "source": [
    "import os.path\n",
    "from pathlib import Path\n",
    "import io\n",
    "import speech_recognition as sr\n",
    "from pathlib import Path\n",
    "from tkinter import *"
   ]
  },
  {
   "cell_type": "code",
   "execution_count": 2,
   "id": "a9c11d35",
   "metadata": {},
   "outputs": [],
   "source": [
    "barra_7 = '/'\n",
    "extensionFile = \".odt\"\n"
   ]
  },
  {
   "cell_type": "code",
   "execution_count": 3,
   "id": "a9ebee74",
   "metadata": {},
   "outputs": [],
   "source": [
    "def numAudioFiles():\n",
    "    i=0\n",
    "    while i<1 :\n",
    "        try:\n",
    "            file_number=int(input(\"Introduce el numero de archivos a procesar: \"))\n",
    "            return file_number\n",
    "            i=10\n",
    "\n",
    "        except ValueError:\n",
    "            print(\"El valor introducido es erroneo, vuelve a introducirlo correctamente.\")"
   ]
  },
  {
   "cell_type": "code",
   "execution_count": 4,
   "id": "b8130e6e",
   "metadata": {},
   "outputs": [],
   "source": [
    "def rutaAudioFiles():\n",
    "    try:\n",
    "        path_file=input(\"Introduce la ruta donde estan los archivos: \\n\")\n",
    "\n",
    "        pathname = Path(path_file)\n",
    "        return pathname\n",
    "        #path_file = path_file + barra_7\n",
    "    except:\n",
    "        print(\"El valor introducido no es correcto\")\n",
    "        \n",
    "    finally:\n",
    "        print(f\"Ruta donde se va a guardar el fichero de texto {pathname}\" )"
   ]
  },
  {
   "cell_type": "code",
   "execution_count": 5,
   "id": "d8136aef",
   "metadata": {},
   "outputs": [],
   "source": [
    "def audioToTrancribe():\n",
    "\n",
    "    AudioNameSource = input(\"Introduce el nombre_del_fichero_de_audio que quieres transcribir: \")\n",
    "    AudioNameSource = AudioNameSource + '-'\n",
    "    print(f\"nombre_del_fichero_de_texto a procesar: {AudioNameSource}\")\n",
    "    return AudioNameSource"
   ]
  },
  {
   "cell_type": "code",
   "execution_count": 6,
   "id": "e5fa0c28",
   "metadata": {},
   "outputs": [],
   "source": [
    "def nombreRutaDelDocumento(rAF,aTT,ext):\n",
    "    try:\n",
    "        nameFileName=input(\"Cual es el nombre_del fichero_de_texto que quieres darle?: \")\n",
    "        open(str(rAF) + '/' + nameFileName + ext,'a')\n",
    "        print(f\"El archivo \",{nameFileName},\" se ha creado\" )\n",
    "        makeFile = str(rAF) + '/' + nameFileName + ext\n",
    "        return makeFile\n",
    "\n",
    "    except:\n",
    "        print(\"El archivo no ha podido crearse\")\n",
    "\n",
    "    finally:\n",
    "        print(f\"Nombre del fichero transcrito: {nameFileName}\")"
   ]
  },
  {
   "cell_type": "code",
   "execution_count": 7,
   "id": "a2105110",
   "metadata": {},
   "outputs": [],
   "source": [
    "# \tnAF \t\t\tnumero de audiofiles\n",
    "# \trAF \t\t\truta donde estan los archivos\n",
    "# \taTT \t\t\tNombre del fichero de audio a transcribir\n",
    "# \ttN  \t\t\tnombre que quieres darle al documento \n",
    "# \tnDD \t\t\tretorno de la funcion nombre del documento nombreRutaDelDocumento"
   ]
  },
  {
   "cell_type": "code",
   "execution_count": 8,
   "id": "05fd3b24",
   "metadata": {},
   "outputs": [],
   "source": [
    "def escribirDocumentoCreado(nAF,rAF,aTT,nDD): \n",
    "    numero_palabras = 0\n",
    "    archivo_texto=open(nDD,'a+')\n",
    "    #espacio = '\\n' + '\\n' + numero + '\\n' + '\\n'\n",
    "    \n",
    "    for i in range(nAF):   # \tnAF \t\t\tnumero de audiofiles\n",
    "        numero = \"%02d\" % i\n",
    "        \n",
    "        sufijo_fichero_de_audio: str = ('%s.wav' % (numero,))  #str = unicode(str, errors='ignore')\n",
    "        rec = sr.Recognizer()\n",
    "        \n",
    "        obj = sr.AudioFile(str(rAF) + '/' + aTT + sufijo_fichero_de_audio)\n",
    "        \n",
    "        with obj as source:\n",
    "            audio = rec.record(source)\n",
    "\n",
    "        if os.path.isfile(str(nDD)):\n",
    "            print(\"El fichero existe\")\n",
    "            archivo_texto = open(nDD,\"a+\")  # dos argumentos ; nombre archivo y  modo: w= escritura\n",
    "            numero_palabras = len(archivo_texto.read())\n",
    "            archivo_texto.seek(numero_palabras)\n",
    "\n",
    "            archivo_texto.write('\\n' + numero + '\\n')\n",
    "            print(\"Fichero abierto y preparado para escribir en el \")\n",
    "            archivo_texto.write((rec.recognize_google(audio, language=\"es-ES\")))\n",
    "            archivo_texto.write('\\n'+'\\n')\n",
    "\n",
    "            print(\"palabras dentro del archivo de texto: \" + str(numero_palabras) + \" en la iteracion numero: \" + sufijo_fichero_de_audio  )\n",
    "            \n",
    "        else:\n",
    "            print(\"No rula \", str(rAF) + '/' + nDD)\n",
    "    archivo_texto.close()"
   ]
  },
  {
   "cell_type": "code",
   "execution_count": 9,
   "id": "32512730",
   "metadata": {},
   "outputs": [
    {
     "name": "stdout",
     "output_type": "stream",
     "text": [
      "Introduce el numero de archivos a procesar: 1\n",
      "Introduce la ruta donde estan los archivos: \n",
      "/home/ion/Formacion/01_Programacion/01_Programacion\n",
      "Ruta donde se va a guardar el fichero de texto /home/ion/Formacion/01_Programacion/01_Programacion\n",
      "Introduce el nombre_del_fichero_de_audio que quieres transcribir: audio\n",
      "nombre_del_fichero_de_texto a procesar: audio-\n",
      "Cual es el nombre_del fichero_de_texto que quieres darle?: FILE_NAME\n",
      "El archivo  {'FILE_NAME'}  se ha creado\n",
      "Nombre del fichero transcrito: FILE_NAME\n"
     ]
    }
   ],
   "source": [
    "# 15\n",
    "# /home/ion/Documentos/Formacion/01_Programacion\n",
    "# audio\n",
    "\n",
    "\n",
    "\n",
    "nAF = numAudioFiles()                                # nAF numero de audiofiles\n",
    "rAF = rutaAudioFiles()                               # rAF ruta donde estan los archivos\n",
    "aTT = audioToTrancribe()                             # aTT Nombre del fichero de audio a transcribir\n",
    "nDD = nombreRutaDelDocumento(rAF,aTT,extensionFile) # tN  nombre que quieres darle al documento "
   ]
  },
  {
   "cell_type": "code",
   "execution_count": 10,
   "id": "c5f8fb9e",
   "metadata": {},
   "outputs": [
    {
     "name": "stdout",
     "output_type": "stream",
     "text": [
      "/home/ion/Formacion/01_Programacion/01_Programacion/FILE_NAME.odt\n"
     ]
    }
   ],
   "source": [
    "print(nDD)"
   ]
  },
  {
   "cell_type": "code",
   "execution_count": 11,
   "id": "93d2dc60",
   "metadata": {
    "scrolled": true
   },
   "outputs": [
    {
     "name": "stdout",
     "output_type": "stream",
     "text": [
      "El fichero existe\n",
      "Fichero abierto y preparado para escribir en el \n",
      "palabras dentro del archivo de texto: 0 en la iteracion numero: 00.wav\n"
     ]
    }
   ],
   "source": [
    "escribirDocumentoCreado(nAF,rAF,aTT,nDD)\n",
    "\n",
    "#nameNewFile = crearArchivo(b,d,extensionFile,listaDeLasrutas)\n",
    "#escribirEnArchivo(nameNewFile, listaDeLasrutas)"
   ]
  }
 ],
 "metadata": {
  "kernelspec": {
   "display_name": "Python 3 (ipykernel)",
   "language": "python",
   "name": "python3"
  },
  "language_info": {
   "codemirror_mode": {
    "name": "ipython",
    "version": 3
   },
   "file_extension": ".py",
   "mimetype": "text/x-python",
   "name": "python",
   "nbconvert_exporter": "python",
   "pygments_lexer": "ipython3",
   "version": "3.9.12"
  }
 },
 "nbformat": 4,
 "nbformat_minor": 5
}
